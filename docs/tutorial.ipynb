{
 "cells": [
  {
   "cell_type": "markdown",
   "metadata": {},
   "source": [
    "## SynDiffix Usage Tutorial\n",
    "\n",
    "This notebook demonstrates how to use __SynDiffix__, an open-source library for generating statistically-accurate\n",
    "and strongly anonymous synthetic data from structured data.\n",
    "\n",
    "We'll go through the process of loading and inspecting a toy dataset, creating a synthetic dataset that mimics the original,\n",
    "computing some statistical properties over the two datasets and comparing them, and, finally, how to improve accuracy when\n",
    "analyzing synthetic data.\n",
    "\n",
    "### Setup\n",
    "\n",
    "The `syndiffix` package requires Python 3.10 or later. We can install it using `pip`:"
   ]
  },
  {
   "cell_type": "code",
   "execution_count": null,
   "metadata": {},
   "outputs": [],
   "source": [
    "%pip install syndiffix"
   ]
  },
  {
   "cell_type": "markdown",
   "metadata": {},
   "source": [
    "We'll need a toy dataset to play with, so let's install the `scikit-learn` package in order to use one of their popular reference datasets:"
   ]
  },
  {
   "cell_type": "code",
   "execution_count": null,
   "metadata": {},
   "outputs": [],
   "source": [
    "%pip install scikit-learn"
   ]
  },
  {
   "cell_type": "markdown",
   "metadata": {},
   "source": [
    "We'll want to compute some statistical properties of the original and synthetic datasets in order to compare them, so let's install the `scipy` package as well: "
   ]
  },
  {
   "cell_type": "code",
   "execution_count": null,
   "metadata": {},
   "outputs": [],
   "source": [
    "%pip install scipy"
   ]
  },
  {
   "cell_type": "markdown",
   "metadata": {},
   "source": [
    "### Loading our data\n",
    "\n",
    "For this tutorial, we are going to use the Diabetes dataset, which is a popular reference dataset containing some attributes of patients with diabetes and the progression of their illness one year after baseline.\n",
    "\n",
    "You can find more info about it [here](https://scikit-learn.org/stable/datasets/toy_dataset.html#diabetes-dataset).\n",
    "You can see all the available toy datasets [here](https://scikit-learn.org/stable/datasets/toy_dataset.html).\n",
    "\n",
    "First, let's load our data and display some summary information about it:"
   ]
  },
  {
   "cell_type": "code",
   "execution_count": 6,
   "metadata": {},
   "outputs": [
    {
     "name": "stdout",
     "output_type": "stream",
     "text": [
      ".. _diabetes_dataset:\n",
      "\n",
      "Diabetes dataset\n",
      "----------------\n",
      "\n",
      "Ten baseline variables, age, sex, body mass index, average blood\n",
      "pressure, and six blood serum measurements were obtained for each of n =\n",
      "442 diabetes patients, as well as the response of interest, a\n",
      "quantitative measure of disease progression one year after baseline.\n",
      "\n",
      "**Data Set Characteristics:**\n",
      "\n",
      "  :Number of Instances: 442\n",
      "\n",
      "  :Number of Attributes: First 10 columns are numeric predictive values\n",
      "\n",
      "  :Target: Column 11 is a quantitative measure of disease progression one year after baseline\n",
      "\n",
      "  :Attribute Information:\n",
      "      - age     age in years\n",
      "      - sex\n",
      "      - bmi     body mass index\n",
      "      - bp      average blood pressure\n",
      "      - s1      tc, total serum cholesterol\n",
      "      - s2      ldl, low-density lipoproteins\n",
      "      - s3      hdl, high-density lipoproteins\n",
      "      - s4      tch, total cholesterol / HDL\n",
      "      - s5      ltg, possibly log of serum triglycerides level\n",
      "      - s6      glu, blood sugar level\n",
      "\n",
      "Note: Each of these 10 feature variables have been mean centered and scaled by the standard deviation times the square root of `n_samples` (i.e. the sum of squares of each column totals 1).\n",
      "\n",
      "Source URL:\n",
      "https://www4.stat.ncsu.edu/~boos/var.select/diabetes.html\n",
      "\n",
      "For more information see:\n",
      "Bradley Efron, Trevor Hastie, Iain Johnstone and Robert Tibshirani (2004) \"Least Angle Regression,\" Annals of Statistics (with discussion), 407-499.\n",
      "(https://web.stanford.edu/~hastie/Papers/LARS/LeastAngle_2002.pdf)\n",
      "\n",
      "<class 'pandas.core.frame.DataFrame'>\n",
      "RangeIndex: 442 entries, 0 to 441\n",
      "Data columns (total 11 columns):\n",
      " #   Column  Non-Null Count  Dtype  \n",
      "---  ------  --------------  -----  \n",
      " 0   age     442 non-null    float64\n",
      " 1   sex     442 non-null    float64\n",
      " 2   bmi     442 non-null    float64\n",
      " 3   bp      442 non-null    float64\n",
      " 4   s1      442 non-null    float64\n",
      " 5   s2      442 non-null    float64\n",
      " 6   s3      442 non-null    float64\n",
      " 7   s4      442 non-null    float64\n",
      " 8   s5      442 non-null    float64\n",
      " 9   s6      442 non-null    float64\n",
      " 10  target  442 non-null    float64\n",
      "dtypes: float64(11)\n",
      "memory usage: 38.1 KB\n",
      "None\n",
      "          age       sex       bmi  ...        s5        s6  target\n",
      "0    0.038076  0.050680  0.061696  ...  0.019907 -0.017646   151.0\n",
      "1   -0.001882 -0.044642 -0.051474  ... -0.068332 -0.092204    75.0\n",
      "2    0.085299  0.050680  0.044451  ...  0.002861 -0.025930   141.0\n",
      "3   -0.089063 -0.044642 -0.011595  ...  0.022688 -0.009362   206.0\n",
      "4    0.005383 -0.044642 -0.036385  ... -0.031988 -0.046641   135.0\n",
      "..        ...       ...       ...  ...       ...       ...     ...\n",
      "437  0.041708  0.050680  0.019662  ...  0.031193  0.007207   178.0\n",
      "438 -0.005515  0.050680 -0.015906  ... -0.018114  0.044485   104.0\n",
      "439  0.041708  0.050680 -0.015906  ... -0.046883  0.015491   132.0\n",
      "440 -0.045472 -0.044642  0.039062  ...  0.044529 -0.025930   220.0\n",
      "441 -0.045472 -0.044642 -0.073030  ... -0.004222  0.003064    57.0\n",
      "\n",
      "[442 rows x 11 columns]\n"
     ]
    }
   ],
   "source": [
    "import sklearn.datasets\n",
    "\n",
    "data = sklearn.datasets.load_diabetes(as_frame=True)\n",
    "print(data.DESCR)\n",
    "print(data.frame.info())\n",
    "print(data.frame)"
   ]
  },
  {
   "cell_type": "markdown",
   "metadata": {},
   "source": [
    "Let's look at some of the attribute correlations in this data:"
   ]
  },
  {
   "cell_type": "code",
   "execution_count": 17,
   "metadata": {},
   "outputs": [
    {
     "name": "stdout",
     "output_type": "stream",
     "text": [
      "SignificanceResult(statistic=0.19782187832853038, pvalue=2.806132121751573e-05)\n",
      "SignificanceResult(statistic=0.03740081502886254, pvalue=0.4328318674689041)\n",
      "SignificanceResult(statistic=0.5613820101065616, pvalue=4.567023927725032e-38)\n",
      "SignificanceResult(statistic=0.4162408981534322, pvalue=5.992783653793038e-20)\n"
     ]
    }
   ],
   "source": [
    "import scipy.stats\n",
    "\n",
    "print(scipy.stats.spearmanr(data.frame['target'], data.frame['age']))\n",
    "print(scipy.stats.spearmanr(data.frame['target'], data.frame['sex']))\n",
    "print(scipy.stats.spearmanr(data.frame['target'], data.frame['bmi']))\n",
    "print(scipy.stats.spearmanr(data.frame['target'], data.frame['bp']))"
   ]
  },
  {
   "cell_type": "markdown",
   "metadata": {},
   "source": [
    "We can see that there is a moderate correlation between disease progression and body mass index / blood pressure and a low or no correlation with age and sex.\n",
    "\n",
    "### Creating a synthetic dataset\n",
    "\n",
    "Data with health information about individuals is usually privacy-sensitive and can't be shared freely with non-authorized analysts.\n",
    "Fortunately, using __SynDiffix__ we can create a synthetic dataset that preserves most of the statistical properties of the data while, at the same time, protecting subjects' privacy."
   ]
  },
  {
   "cell_type": "code",
   "execution_count": 21,
   "metadata": {},
   "outputs": [
    {
     "name": "stdout",
     "output_type": "stream",
     "text": [
      "<class 'pandas.core.frame.DataFrame'>\n",
      "RangeIndex: 443 entries, 0 to 442\n",
      "Data columns (total 11 columns):\n",
      " #   Column  Non-Null Count  Dtype  \n",
      "---  ------  --------------  -----  \n",
      " 0   age     443 non-null    float64\n",
      " 1   sex     443 non-null    float64\n",
      " 2   bmi     443 non-null    float64\n",
      " 3   bp      443 non-null    float64\n",
      " 4   s1      443 non-null    float64\n",
      " 5   s2      443 non-null    float64\n",
      " 6   s3      443 non-null    float64\n",
      " 7   s4      443 non-null    float64\n",
      " 8   s5      443 non-null    float64\n",
      " 9   s6      443 non-null    float64\n",
      " 10  target  443 non-null    float64\n",
      "dtypes: float64(11)\n",
      "memory usage: 38.2 KB\n",
      "None\n",
      "        age       sex       bmi  ...        s5        s6      target\n",
      "0  0.001751  0.050680 -0.023451  ... -0.016958 -0.083522  179.661718\n",
      "1  0.009016 -0.044642 -0.069168  ... -0.051404 -0.085228   48.862515\n",
      "2  0.009016  0.050680 -0.038540  ... -0.041261 -0.081947  121.499646\n",
      "3  0.005383 -0.044642  0.010852  ... -0.051404 -0.071494   71.945852\n",
      "4  0.005383 -0.044642  0.060622  ... -0.056124 -0.079746   88.074971\n",
      "\n",
      "[5 rows x 11 columns]\n"
     ]
    }
   ],
   "source": [
    "from syndiffix import Synthesizer\n",
    "\n",
    "syn_data = Synthesizer(data.frame).sample()\n",
    "\n",
    "print(syn_data.info())\n",
    "print(syn_data)"
   ]
  },
  {
   "cell_type": "markdown",
   "metadata": {},
   "source": [
    "Now let's measure the same correlations over the synthetic data:"
   ]
  },
  {
   "cell_type": "code",
   "execution_count": 22,
   "metadata": {},
   "outputs": [
    {
     "name": "stdout",
     "output_type": "stream",
     "text": [
      "SignificanceResult(statistic=0.12251922895376645, pvalue=0.009846415798413657)\n",
      "SignificanceResult(statistic=0.19935610923472424, pvalue=2.372430880953227e-05)\n",
      "SignificanceResult(statistic=0.5412062280302331, pvalue=4.5054142562932026e-35)\n",
      "SignificanceResult(statistic=0.20204750436148464, pvalue=1.8285087833111073e-05)\n"
     ]
    }
   ],
   "source": [
    "print(scipy.stats.spearmanr(syn_data['target'], syn_data['age']))\n",
    "print(scipy.stats.spearmanr(syn_data['target'], syn_data['sex']))\n",
    "print(scipy.stats.spearmanr(syn_data['target'], syn_data['bmi']))\n",
    "print(scipy.stats.spearmanr(syn_data['target'], syn_data['bp']))"
   ]
  },
  {
   "cell_type": "markdown",
   "metadata": {},
   "source": [
    "The correlation between the `target` and the `bmi` attributes is preserved well, but the others are distorted.\n",
    "This happens because noise is produced during anonymization and synthesization.\n",
    "The greater the number of columns in the input and the fewer the rows, the noisier the output gets.\n",
    "\n",
    "### Improving accuracy\n",
    "\n",
    "We can make our analysis more accurate by not synthesizing unnecessary columns.\n",
    "When computing correlations, we only need 2 attributes at each step, so we can create a custom synthetic dataset for each computation separately."
   ]
  },
  {
   "cell_type": "code",
   "execution_count": 16,
   "metadata": {},
   "outputs": [
    {
     "name": "stdout",
     "output_type": "stream",
     "text": [
      "SignificanceResult(statistic=0.19156155458008461, pvalue=5.0446892247195e-05)\n",
      "SignificanceResult(statistic=0.02371510262821468, pvalue=0.6186215410235593)\n",
      "SignificanceResult(statistic=0.5268159345320267, pvalue=5.301554684807017e-33)\n",
      "SignificanceResult(statistic=0.46845444162691363, pvalue=1.7142953226012332e-25)\n"
     ]
    }
   ],
   "source": [
    "syn_data = Synthesizer(data.frame[['target', 'age']]).sample()\n",
    "print(scipy.stats.spearmanr(syn_data['target'], syn_data['age']))\n",
    "\n",
    "syn_data = Synthesizer(data.frame[['target', 'sex']]).sample()\n",
    "print(scipy.stats.spearmanr(syn_data['target'], syn_data['sex']))\n",
    "\n",
    "syn_data = Synthesizer(data.frame[['target', 'bmi']]).sample()\n",
    "print(scipy.stats.spearmanr(syn_data['target'], syn_data['bmi']))\n",
    "\n",
    "syn_data = Synthesizer(data.frame[['target', 'bp']]).sample()\n",
    "print(scipy.stats.spearmanr(syn_data['target'], syn_data['bp']))"
   ]
  },
  {
   "cell_type": "markdown",
   "metadata": {},
   "source": [
    "All the computed correlations are now close to the originals, making the utility of such an analysis high."
   ]
  }
 ],
 "metadata": {
  "kernelspec": {
   "display_name": "Python 3",
   "language": "python",
   "name": "python3"
  },
  "language_info": {
   "codemirror_mode": {
    "name": "ipython",
    "version": 3
   },
   "file_extension": ".py",
   "mimetype": "text/x-python",
   "name": "python",
   "nbconvert_exporter": "python",
   "pygments_lexer": "ipython3",
   "version": "3.10.7"
  }
 },
 "nbformat": 4,
 "nbformat_minor": 2
}
